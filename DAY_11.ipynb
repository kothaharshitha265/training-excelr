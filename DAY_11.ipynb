{
  "nbformat": 4,
  "nbformat_minor": 0,
  "metadata": {
    "colab": {
      "provenance": [],
      "authorship_tag": "ABX9TyN5VFrwso0Zy+Co1SjKYuGo",
      "include_colab_link": true
    },
    "kernelspec": {
      "name": "python3",
      "display_name": "Python 3"
    },
    "language_info": {
      "name": "python"
    }
  },
  "cells": [
    {
      "cell_type": "markdown",
      "metadata": {
        "id": "view-in-github",
        "colab_type": "text"
      },
      "source": [
        "<a href=\"https://colab.research.google.com/github/kothaharshitha265/training-excelr/blob/main/DAY_11.ipynb\" target=\"_parent\"><img src=\"https://colab.research.google.com/assets/colab-badge.svg\" alt=\"Open In Colab\"/></a>"
      ]
    },
    {
      "cell_type": "code",
      "source": [
        "#Write a Python script to fetch and print the title of a webpage using the 'requests' and 'BeautifulSoup' libraries. Test it with the URL: 'https://example.com'.\n",
        "import requests\n",
        "from bs4 import BeautifulSoup\n",
        "\n",
        "def fetch_webpage_title(url):\n",
        "    \"\"\"\n",
        "    Fetches and returns the title of a webpage.\n",
        "\n",
        "    Args:\n",
        "    url (str): The URL of the webpage.\n",
        "\n",
        "    Returns:\n",
        "    str: The title of the webpage, or an error message if the title cannot be fetched.\n",
        "    \"\"\"\n",
        "    try:\n",
        "        # Send a GET request to the URL\n",
        "        response = requests.get(url)\n",
        "        response.raise_for_status()  # Raise an error for bad status codes\n",
        "\n",
        "        # Parse the webpage content with BeautifulSoup\n",
        "        soup = BeautifulSoup(response.text, 'html.parser')\n",
        "\n",
        "        # Extract the title tag\n",
        "        title = soup.title.string if soup.title else \"No title found\"\n",
        "\n",
        "        return title\n",
        "    except requests.exceptions.RequestException as e:\n",
        "        return f\"An error occurred: {e}\"\n",
        "\n",
        "# Test the function\n",
        "if __name__ == \"__main__\":\n",
        "    test_url = 'https://example.com'\n",
        "    title = fetch_webpage_title(test_url)\n",
        "    print(f\"Title of the webpage '{test_url}': {title}\")\n"
      ],
      "metadata": {
        "colab": {
          "base_uri": "https://localhost:8080/"
        },
        "id": "tQers9-QsC0A",
        "outputId": "1986de4d-75ba-43d6-a13b-347706c3612a"
      },
      "execution_count": 11,
      "outputs": [
        {
          "output_type": "stream",
          "name": "stdout",
          "text": [
            "Title of the webpage 'https://example.com': Example Domain\n"
          ]
        }
      ]
    },
    {
      "cell_type": "code",
      "source": [],
      "metadata": {
        "id": "wg67rUUKsHnR"
      },
      "execution_count": null,
      "outputs": []
    }
  ]
}