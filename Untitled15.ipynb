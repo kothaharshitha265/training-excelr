{
  "nbformat": 4,
  "nbformat_minor": 0,
  "metadata": {
    "colab": {
      "provenance": [],
      "authorship_tag": "ABX9TyNDWeR6KRCbxJtg2rL2KKrW",
      "include_colab_link": true
    },
    "kernelspec": {
      "name": "python3",
      "display_name": "Python 3"
    },
    "language_info": {
      "name": "python"
    }
  },
  "cells": [
    {
      "cell_type": "markdown",
      "metadata": {
        "id": "view-in-github",
        "colab_type": "text"
      },
      "source": [
        "<a href=\"https://colab.research.google.com/github/kothaharshitha265/training-excelr/blob/main/Untitled15.ipynb\" target=\"_parent\"><img src=\"https://colab.research.google.com/assets/colab-badge.svg\" alt=\"Open In Colab\"/></a>"
      ]
    },
    {
      "cell_type": "code",
      "execution_count": 1,
      "metadata": {
        "id": "EBNHGmg144I2",
        "colab": {
          "base_uri": "https://localhost:8080/"
        },
        "outputId": "d1f4bbfe-ec6c-4da5-db9f-7caa03b1e648"
      },
      "outputs": [
        {
          "output_type": "stream",
          "name": "stdout",
          "text": [
            "Extracted emails: ['support@example.com', 'sales@example.org']\n"
          ]
        }
      ],
      "source": [
        "import re\n",
        "\n",
        "def extract_emails(text):\n",
        "    # Regular expression pattern to match email addresses\n",
        "    email_pattern = r'[a-zA-Z0-9._%+-]+@[a-zA-Z0-9.-]+\\.[a-zA-Z]{2,}'\n",
        "    # Find all email addresses in the input string\n",
        "    emails = re.findall(email_pattern, text)\n",
        "    return emails\n",
        "\n",
        "# Test the function\n",
        "input_text = 'Contact us at support@example.com and sales@example.org.'\n",
        "result = extract_emails(input_text)\n",
        "print(\"Extracted emails:\", result)\n"
      ]
    }
  ]
}