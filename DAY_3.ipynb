{
  "nbformat": 4,
  "nbformat_minor": 0,
  "metadata": {
    "colab": {
      "provenance": [],
      "authorship_tag": "ABX9TyOmTzVO/6w1dvCRBL8iLXbP",
      "include_colab_link": true
    },
    "kernelspec": {
      "name": "python3",
      "display_name": "Python 3"
    },
    "language_info": {
      "name": "python"
    }
  },
  "cells": [
    {
      "cell_type": "markdown",
      "metadata": {
        "id": "view-in-github",
        "colab_type": "text"
      },
      "source": [
        "<a href=\"https://colab.research.google.com/github/kothaharshitha265/training-excelr/blob/main/DAY_3.ipynb\" target=\"_parent\"><img src=\"https://colab.research.google.com/assets/colab-badge.svg\" alt=\"Open In Colab\"/></a>"
      ]
    },
    {
      "cell_type": "code",
      "execution_count": 3,
      "metadata": {
        "colab": {
          "base_uri": "https://localhost:8080/"
        },
        "id": "TU-Gu6l0h6rz",
        "outputId": "bfabac4a-acc0-4f0b-d30c-dfe57085ac1c"
      },
      "outputs": [
        {
          "output_type": "stream",
          "name": "stdout",
          "text": [
            "List elements:\n",
            "Element at index 0: 10\n",
            "Element at index 2: 30\n",
            "Last element: 50\n",
            "\n",
            "Tuple elements:\n",
            "Element at index 1: AI\n",
            "Element at index 3: Python\n",
            "First three elements: ('ML', 'AI', 'Data')\n",
            "\n",
            "Dictionary elements:\n",
            "Value of 'Algorithm': Decision Tree\n",
            "Value of 'Accuracy': 92.5\n",
            "Keys: ['Algorithm', 'Accuracy', 'Dataset', 'Language', 'Model']\n",
            "Values: ['Decision Tree', 92.5, 'Iris', 'Python', 'Classification']\n"
          ]
        }
      ],
      "source": [
        "#Write a Python program that takes a student's marks in three subjects as input.\n",
        "# If the average is greater than or equal to 90, print \"Grade: A\".\n",
        "#If the average is between 80 and 89, print \"Grade: B\".\n",
        "#If the average is between 70 and 79, print \"Grade: C\".\n",
        "#Otherwise, print \"Grade: Fail\".\n",
        "\n",
        "subject1 = float(input(\"Enter marks for Subject 1: \"))\n",
        "subject2 = float(input(\"Enter marks for Subject 2: \"))\n",
        "subject3 = float(input(\"Enter marks for Subject 3: \"))\n",
        "\n",
        "\n",
        "average = (subject1 + subject2 + subject3) / 3\n",
        "\n",
        "if average >= 90:\n",
        "    grade = \"A\"\n",
        "elif 80 <= average < 90:\n",
        "    grade = \"B\"\n",
        "elif 70 <= average < 80:\n",
        "    grade = \"C\"\n",
        "else:\n",
        "    grade = \"Fail\"\n",
        "\n",
        "print(f\"Average Marks: {average:.2f}\")\n",
        "print(f\"Grade: {grade}\")\n"
      ]
    }
  ]
}