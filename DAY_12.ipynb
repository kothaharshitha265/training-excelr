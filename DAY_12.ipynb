{
  "nbformat": 4,
  "nbformat_minor": 0,
  "metadata": {
    "colab": {
      "provenance": [],
      "authorship_tag": "ABX9TyPBOd3hvjjzTHsGB45MtXtw",
      "include_colab_link": true
    },
    "kernelspec": {
      "name": "python3",
      "display_name": "Python 3"
    },
    "language_info": {
      "name": "python"
    }
  },
  "cells": [
    {
      "cell_type": "markdown",
      "metadata": {
        "id": "view-in-github",
        "colab_type": "text"
      },
      "source": [
        "<a href=\"https://colab.research.google.com/github/kothaharshitha265/training-excelr/blob/main/DAY_12.ipynb\" target=\"_parent\"><img src=\"https://colab.research.google.com/assets/colab-badge.svg\" alt=\"Open In Colab\"/></a>"
      ]
    },
    {
      "cell_type": "code",
      "source": [
        "#Write a Python script to perform part-of-speech tagging on the sentence: 'NLP is amazing and fun to learn.' using SpaCy.\n",
        "import spacy\n",
        "\n",
        "def pos_tagging(sentence):\n",
        "    \"\"\"\n",
        "    Performs part-of-speech tagging on the given sentence using SpaCy.\n",
        "\n",
        "    Args:\n",
        "    sentence (str): The input sentence.\n",
        "\n",
        "    Returns:\n",
        "    list: A list of tuples containing each word and its POS tag.\n",
        "    \"\"\"\n",
        "\n",
        "    nlp = spacy.load(\"en_core_web_sm\")\n",
        "\n",
        "\n",
        "    doc = nlp(sentence)\n",
        "\n",
        "\n",
        "    pos_tags = [(token.text, token.pos_) for token in doc]\n",
        "\n",
        "    return pos_tags\n",
        "\n",
        "\n",
        "if __name__ == \"__main__\":\n",
        "    test_sentence = \"NLP is amazing and fun to learn.\"\n",
        "    tagged_sentence = pos_tagging(test_sentence)\n",
        "\n",
        "    print(\"Original Sentence:\", test_sentence)\n",
        "    print(\"Part-of-Speech Tags:\")\n",
        "    for word, tag in tagged_sentence:\n",
        "        print(f\"{word}: {tag}\")\n"
      ],
      "metadata": {
        "colab": {
          "base_uri": "https://localhost:8080/"
        },
        "id": "wg67rUUKsHnR",
        "outputId": "1ef2beef-ba19-4800-92ea-92ff42c23edc"
      },
      "execution_count": 13,
      "outputs": [
        {
          "output_type": "stream",
          "name": "stdout",
          "text": [
            "Original Sentence: NLP is amazing and fun to learn.\n",
            "Part-of-Speech Tags:\n",
            "NLP: PROPN\n",
            "is: AUX\n",
            "amazing: ADJ\n",
            "and: CCONJ\n",
            "fun: ADJ\n",
            "to: PART\n",
            "learn: VERB\n",
            ".: PUNCT\n"
          ]
        }
      ]
    },
    {
      "cell_type": "code",
      "source": [],
      "metadata": {
        "id": "SkY6VMluuu7u"
      },
      "execution_count": null,
      "outputs": []
    }
  ]
}