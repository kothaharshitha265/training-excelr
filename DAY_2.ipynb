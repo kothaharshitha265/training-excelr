{
  "nbformat": 4,
  "nbformat_minor": 0,
  "metadata": {
    "colab": {
      "provenance": [],
      "authorship_tag": "ABX9TyNRZqC5OOFqqNwKHanpZOue",
      "include_colab_link": true
    },
    "kernelspec": {
      "name": "python3",
      "display_name": "Python 3"
    },
    "language_info": {
      "name": "python"
    }
  },
  "cells": [
    {
      "cell_type": "markdown",
      "metadata": {
        "id": "view-in-github",
        "colab_type": "text"
      },
      "source": [
        "<a href=\"https://colab.research.google.com/github/kothaharshitha265/training-excelr/blob/main/DAY_2.ipynb\" target=\"_parent\"><img src=\"https://colab.research.google.com/assets/colab-badge.svg\" alt=\"Open In Colab\"/></a>"
      ]
    },
    {
      "cell_type": "code",
      "execution_count": 3,
      "metadata": {
        "colab": {
          "base_uri": "https://localhost:8080/"
        },
        "id": "TU-Gu6l0h6rz",
        "outputId": "bfabac4a-acc0-4f0b-d30c-dfe57085ac1c"
      },
      "outputs": [
        {
          "output_type": "stream",
          "name": "stdout",
          "text": [
            "List elements:\n",
            "Element at index 0: 10\n",
            "Element at index 2: 30\n",
            "Last element: 50\n",
            "\n",
            "Tuple elements:\n",
            "Element at index 1: AI\n",
            "Element at index 3: Python\n",
            "First three elements: ('ML', 'AI', 'Data')\n",
            "\n",
            "Dictionary elements:\n",
            "Value of 'Algorithm': Decision Tree\n",
            "Value of 'Accuracy': 92.5\n",
            "Keys: ['Algorithm', 'Accuracy', 'Dataset', 'Language', 'Model']\n",
            "Values: ['Decision Tree', 92.5, 'Iris', 'Python', 'Classification']\n"
          ]
        }
      ],
      "source": [
        "#Create a List, tuple and Dictionary with 5 elements in it and how to access few elements based on the index. Try  with different examples\n",
        "my_list = [10, 20, 30, 40, 50]\n",
        "my_tuple = (\"ML\", \"AI\", \"Data\", \"Python\", \"Deep Learning\")\n",
        "my_dict = {\n",
        "    \"Algorithm\": \"Decision Tree\",\n",
        "    \"Accuracy\": 92.5,\n",
        "    \"Dataset\": \"Iris\",\n",
        "    \"Language\": \"Python\",\n",
        "    \"Model\": \"Classification\"\n",
        "}\n",
        "\n",
        "print(\"List elements:\")\n",
        "print(\"Element at index 0:\", my_list[0])\n",
        "print(\"Element at index 2:\", my_list[2])\n",
        "print(\"Last element:\", my_list[-1])\n",
        "\n",
        "\n",
        "print(\"\\nTuple elements:\")\n",
        "print(\"Element at index 1:\", my_tuple[1])\n",
        "print(\"Element at index 3:\", my_tuple[3])\n",
        "print(\"First three elements:\", my_tuple[:3])\n",
        "\n",
        "\n",
        "print(\"\\nDictionary elements:\")\n",
        "print(\"Value of 'Algorithm':\", my_dict[\"Algorithm\"])\n",
        "print(\"Value of 'Accuracy':\", my_dict[\"Accuracy\"])\n",
        "print(\"Keys:\", list(my_dict.keys()))\n",
        "print(\"Values:\", list(my_dict.values()))\n"
      ]
    }
  ]
}