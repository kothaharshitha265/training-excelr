{
  "nbformat": 4,
  "nbformat_minor": 0,
  "metadata": {
    "colab": {
      "provenance": [],
      "authorship_tag": "ABX9TyOGRp2P8t3DWRvcYXqixhQE",
      "include_colab_link": true
    },
    "kernelspec": {
      "name": "python3",
      "display_name": "Python 3"
    },
    "language_info": {
      "name": "python"
    }
  },
  "cells": [
    {
      "cell_type": "markdown",
      "metadata": {
        "id": "view-in-github",
        "colab_type": "text"
      },
      "source": [
        "<a href=\"https://colab.research.google.com/github/kothaharshitha265/training-excelr/blob/main/30.ipynb\" target=\"_parent\"><img src=\"https://colab.research.google.com/assets/colab-badge.svg\" alt=\"Open In Colab\"/></a>"
      ]
    },
    {
      "cell_type": "code",
      "execution_count": 18,
      "metadata": {
        "id": "EBNHGmg144I2",
        "colab": {
          "base_uri": "https://localhost:8080/"
        },
        "outputId": "a107ab0f-86df-41da-cdc5-9aeb6cac0001"
      },
      "outputs": [
        {
          "output_type": "stream",
          "name": "stdout",
          "text": [
            "Text: I really love this product! It's amazing and works perfectly.\n",
            "Sentiment Polarity: 0.74\n",
            "Overall Sentiment: Positive\n"
          ]
        }
      ],
      "source": [
        "from textblob import TextBlob\n",
        "\n",
        "# Sample text\n",
        "text = \"I really love this product! It's amazing and works perfectly.\"\n",
        "\n",
        "# Perform sentiment analysis\n",
        "blob = TextBlob(text)\n",
        "polarity = blob.sentiment.polarity  # Sentiment score\n",
        "\n",
        "# Determine sentiment category\n",
        "if polarity > 0:\n",
        "    sentiment = \"Positive\"\n",
        "elif polarity < 0:\n",
        "    sentiment = \"Negative\"\n",
        "else:\n",
        "    sentiment = \"Neutral\"\n",
        "\n",
        "# Display the result\n",
        "print(f\"Text: {text}\")\n",
        "print(f\"Sentiment Polarity: {polarity:.2f}\")\n",
        "print(f\"Overall Sentiment: {sentiment}\")\n"
      ]
    },
    {
      "cell_type": "code",
      "source": [
        "import nltk\n",
        "nltk.download('punkt')\n"
      ],
      "metadata": {
        "id": "PpW17RNpeqN-",
        "colab": {
          "base_uri": "https://localhost:8080/"
        },
        "outputId": "b08a8306-d7a3-427d-b6f7-f77b15c1775a"
      },
      "execution_count": 12,
      "outputs": [
        {
          "output_type": "stream",
          "name": "stderr",
          "text": [
            "[nltk_data] Downloading package punkt to /root/nltk_data...\n",
            "[nltk_data]   Package punkt is already up-to-date!\n"
          ]
        },
        {
          "output_type": "execute_result",
          "data": {
            "text/plain": [
              "True"
            ]
          },
          "metadata": {},
          "execution_count": 12
        }
      ]
    },
    {
      "cell_type": "code",
      "source": [],
      "metadata": {
        "id": "HOG9GvDGf5VV"
      },
      "execution_count": 12,
      "outputs": []
    }
  ]
}