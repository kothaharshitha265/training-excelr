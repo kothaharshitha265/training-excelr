{
  "nbformat": 4,
  "nbformat_minor": 0,
  "metadata": {
    "colab": {
      "provenance": [],
      "authorship_tag": "ABX9TyP0tjLvA2VmZwHD5hmrp7hP",
      "include_colab_link": true
    },
    "kernelspec": {
      "name": "python3",
      "display_name": "Python 3"
    },
    "language_info": {
      "name": "python"
    }
  },
  "cells": [
    {
      "cell_type": "markdown",
      "metadata": {
        "id": "view-in-github",
        "colab_type": "text"
      },
      "source": [
        "<a href=\"https://colab.research.google.com/github/kothaharshitha265/training-excelr/blob/main/DAY_4.ipynb\" target=\"_parent\"><img src=\"https://colab.research.google.com/assets/colab-badge.svg\" alt=\"Open In Colab\"/></a>"
      ]
    },
    {
      "cell_type": "code",
      "execution_count": 1,
      "metadata": {
        "colab": {
          "base_uri": "https://localhost:8080/"
        },
        "id": "TU-Gu6l0h6rz",
        "outputId": "8bdef58e-290b-4150-a7b5-ecd0d68035e5"
      },
      "outputs": [
        {
          "output_type": "stream",
          "name": "stdout",
          "text": [
            "Enter a positive integer n: 6\n",
            "The sum of all even numbers between 1 and 6 is: 12\n"
          ]
        }
      ],
      "source": [
        "#Write a Python program to calculate the sum of all even numbers between 1 and a given positive integer n\n",
        "n = int(input(\"Enter a positive integer n: \"))\n",
        "\n",
        "\n",
        "even_sum = 0\n",
        "\n",
        "\n",
        "for num in range(2, n + 1, 2):\n",
        "    even_sum += num\n",
        "\n",
        "print(f\"The sum of all even numbers between 1 and {n} is: {even_sum}\")\n"
      ]
    }
  ]
}