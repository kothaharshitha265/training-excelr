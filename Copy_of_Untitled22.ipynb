{
  "nbformat": 4,
  "nbformat_minor": 0,
  "metadata": {
    "colab": {
      "provenance": [],
      "authorship_tag": "ABX9TyMJ9DmQ6JlvTSTQa1WA6Zzv",
      "include_colab_link": true
    },
    "kernelspec": {
      "name": "python3",
      "display_name": "Python 3"
    },
    "language_info": {
      "name": "python"
    }
  },
  "cells": [
    {
      "cell_type": "markdown",
      "metadata": {
        "id": "view-in-github",
        "colab_type": "text"
      },
      "source": [
        "<a href=\"https://colab.research.google.com/github/kothaharshitha265/training-excelr/blob/main/Copy_of_Untitled22.ipynb\" target=\"_parent\"><img src=\"https://colab.research.google.com/assets/colab-badge.svg\" alt=\"Open In Colab\"/></a>"
      ]
    },
    {
      "cell_type": "code",
      "execution_count": 1,
      "metadata": {
        "id": "EBNHGmg144I2",
        "colab": {
          "base_uri": "https://localhost:8080/"
        },
        "outputId": "2b9dc8a5-7d55-4e58-9956-dbcdb66e6d68"
      },
      "outputs": [
        {
          "output_type": "stream",
          "name": "stdout",
          "text": [
            "Token\tPOS\tTag\n",
            "NLP\tPROPN\tNNP\n",
            "is\tAUX\tVBZ\n",
            "amazing\tADJ\tJJ\n",
            "and\tCCONJ\tCC\n",
            "fun\tADJ\tJJ\n",
            "to\tPART\tTO\n",
            "learn\tVERB\tVB\n",
            ".\tPUNCT\t.\n"
          ]
        }
      ],
      "source": [
        "#Write a Python script to perform part-of-speech tagging on the sentence: 'NLP is amazing and fun to learn.' using SpaCy.\n",
        "import spacy\n",
        "\n",
        "\n",
        "nlp = spacy.load(\"en_core_web_sm\")\n",
        "\n",
        "\n",
        "sentence = \"NLP is amazing and fun to learn.\"\n",
        "\n",
        "\n",
        "doc = nlp(sentence)\n",
        "\n",
        "\n",
        "print(\"Token\\tPOS\\tTag\")\n",
        "for token in doc:\n",
        "    print(f\"{token.text}\\t{token.pos_}\\t{token.tag_}\")\n"
      ]
    },
    {
      "cell_type": "code",
      "source": [],
      "metadata": {
        "id": "PpW17RNpeqN-"
      },
      "execution_count": null,
      "outputs": []
    }
  ]
}