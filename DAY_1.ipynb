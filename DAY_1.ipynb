{
  "nbformat": 4,
  "nbformat_minor": 0,
  "metadata": {
    "colab": {
      "provenance": [],
      "authorship_tag": "ABX9TyOO6ECMZV4Bid1zqofuMoSt",
      "include_colab_link": true
    },
    "kernelspec": {
      "name": "python3",
      "display_name": "Python 3"
    },
    "language_info": {
      "name": "python"
    }
  },
  "cells": [
    {
      "cell_type": "markdown",
      "metadata": {
        "id": "view-in-github",
        "colab_type": "text"
      },
      "source": [
        "<a href=\"https://colab.research.google.com/github/kothaharshitha265/training-excelr/blob/main/DAY_1.ipynb\" target=\"_parent\"><img src=\"https://colab.research.google.com/assets/colab-badge.svg\" alt=\"Open In Colab\"/></a>"
      ]
    },
    {
      "cell_type": "code",
      "execution_count": 2,
      "metadata": {
        "colab": {
          "base_uri": "https://localhost:8080/"
        },
        "id": "TU-Gu6l0h6rz",
        "outputId": "eb73edf5-ce35-413f-d688-99dc8abdc20f"
      },
      "outputs": [
        {
          "output_type": "stream",
          "name": "stdout",
          "text": [
            "Integer Variable:  10  | Type:  <class 'int'>\n",
            "Float Variable:  3.14  | Type:  <class 'float'>\n",
            "String Variable:  Machine Learning  | Type:  <class 'str'>\n",
            "Boolean Variable:  True  | Type:  <class 'bool'>\n"
          ]
        }
      ],
      "source": [
        "\n",
        "integer_var = 10\n",
        "float_var = 3.14\n",
        "string_var = \"Machine Learning\"\n",
        "boolean_var = True\n",
        "\n",
        "print(\"Integer Variable: \", integer_var, \" | Type: \", type(integer_var))\n",
        "print(\"Float Variable: \", float_var, \" | Type: \", type(float_var))\n",
        "print(\"String Variable: \", string_var, \" | Type: \", type(string_var))\n",
        "print(\"Boolean Variable: \", boolean_var, \" | Type: \", type(boolean_var))\n"
      ]
    }
  ]
}