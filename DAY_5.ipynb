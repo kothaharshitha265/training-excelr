{
  "nbformat": 4,
  "nbformat_minor": 0,
  "metadata": {
    "colab": {
      "provenance": [],
      "authorship_tag": "ABX9TyMb1fzPCTEoD4eFNoneyfr5",
      "include_colab_link": true
    },
    "kernelspec": {
      "name": "python3",
      "display_name": "Python 3"
    },
    "language_info": {
      "name": "python"
    }
  },
  "cells": [
    {
      "cell_type": "markdown",
      "metadata": {
        "id": "view-in-github",
        "colab_type": "text"
      },
      "source": [
        "<a href=\"https://colab.research.google.com/github/kothaharshitha265/training-excelr/blob/main/DAY_5.ipynb\" target=\"_parent\"><img src=\"https://colab.research.google.com/assets/colab-badge.svg\" alt=\"Open In Colab\"/></a>"
      ]
    },
    {
      "cell_type": "code",
      "execution_count": null,
      "metadata": {
        "colab": {
          "base_uri": "https://localhost:8080/"
        },
        "id": "TU-Gu6l0h6rz",
        "outputId": "1e1d553d-5c4d-48ca-e40d-c963919eec8d"
      },
      "outputs": [
        {
          "output_type": "stream",
          "name": "stdout",
          "text": [
            "Enter a block of text: machine learning\n",
            "\n",
            "Word Frequencies:\n",
            "machine: 1\n",
            "learning: 1\n"
          ]
        }
      ],
      "source": [
        "\n",
        "text = input(\"Enter a block of text: \")\n",
        "\n",
        "\n",
        "words = text.split()\n",
        "\n",
        "\n",
        "word_count = {}\n",
        "\n",
        "#\n",
        "for word in words:\n",
        "    # Convert words to lowercase to count case-insensitively\n",
        "    word = word.lower()\n",
        "    # Remove punctuation from the word (optional)\n",
        "    word = word.strip(\".,!?;:'\\\"\")\n",
        "    # Increment word count\n",
        "    word_count[word] = word_count.get(word, 0) + 1\n",
        "\n",
        "# Print the words and their corresponding counts\n",
        "print(\"\\nWord Frequencies:\")\n",
        "for word, count in word_count.items():\n",
        "    print(f\"{word}: {count}\")\n"
      ]
    }
  ]
}