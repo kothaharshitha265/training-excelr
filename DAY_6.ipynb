{
  "nbformat": 4,
  "nbformat_minor": 0,
  "metadata": {
    "colab": {
      "provenance": [],
      "authorship_tag": "ABX9TyPbizwEeYyR7yW3NOBAvuMq",
      "include_colab_link": true
    },
    "kernelspec": {
      "name": "python3",
      "display_name": "Python 3"
    },
    "language_info": {
      "name": "python"
    }
  },
  "cells": [
    {
      "cell_type": "markdown",
      "metadata": {
        "id": "view-in-github",
        "colab_type": "text"
      },
      "source": [
        "<a href=\"https://colab.research.google.com/github/kothaharshitha265/training-excelr/blob/main/DAY_6.ipynb\" target=\"_parent\"><img src=\"https://colab.research.google.com/assets/colab-badge.svg\" alt=\"Open In Colab\"/></a>"
      ]
    },
    {
      "cell_type": "code",
      "execution_count": 1,
      "metadata": {
        "colab": {
          "base_uri": "https://localhost:8080/"
        },
        "id": "TU-Gu6l0h6rz",
        "outputId": "8d9b3068-6bfa-4990-f1fe-f92c37f3c85a"
      },
      "outputs": [
        {
          "output_type": "stream",
          "name": "stderr",
          "text": [
            "[nltk_data] Downloading package stopwords to /root/nltk_data...\n",
            "[nltk_data]   Unzipping corpora/stopwords.zip.\n"
          ]
        },
        {
          "output_type": "stream",
          "name": "stdout",
          "text": [
            "Processed Text: example text demonstrate removing stopwords using nltk spacy .\n"
          ]
        }
      ],
      "source": [
        "#Write a Python program to using NLTK and Spacy\n",
        "#Convert text to lowercase.\n",
        "#Remove stopwords using NLTK\n",
        "\n",
        "\n",
        "import nltk\n",
        "from nltk.corpus import stopwords\n",
        "import spacy\n",
        "\n",
        "\n",
        "nltk.download('stopwords')\n",
        "\n",
        "def process_text(text):\n",
        "\n",
        "    text = text.lower()\n",
        "\n",
        "\n",
        "    nlp = spacy.load(\"en_core_web_sm\")\n",
        "    doc = nlp(text)\n",
        "\n",
        "\n",
        "    stop_words = set(stopwords.words('english'))\n",
        "\n",
        "\n",
        "    filtered_words = [token.text for token in doc if token.text not in stop_words]\n",
        "\n",
        "    return ' '.join(filtered_words)\n",
        "\n",
        "if __name__ == \"__main__\":\n",
        "    sample_text = \"This is an example text to demonstrate removing stopwords using NLTK and SpaCy.\"\n",
        "    result = process_text(sample_text)\n",
        "    print(\"Processed Text:\", result)\n",
        "\n"
      ]
    }
  ]
}