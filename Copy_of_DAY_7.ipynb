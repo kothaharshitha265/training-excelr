{
  "nbformat": 4,
  "nbformat_minor": 0,
  "metadata": {
    "colab": {
      "provenance": [],
      "authorship_tag": "ABX9TyPQbhTvekBd9A9vItu9Ew4q",
      "include_colab_link": true
    },
    "kernelspec": {
      "name": "python3",
      "display_name": "Python 3"
    },
    "language_info": {
      "name": "python"
    }
  },
  "cells": [
    {
      "cell_type": "markdown",
      "metadata": {
        "id": "view-in-github",
        "colab_type": "text"
      },
      "source": [
        "<a href=\"https://colab.research.google.com/github/kothaharshitha265/training-excelr/blob/main/Copy_of_DAY_7.ipynb\" target=\"_parent\"><img src=\"https://colab.research.google.com/assets/colab-badge.svg\" alt=\"Open In Colab\"/></a>"
      ]
    },
    {
      "cell_type": "code",
      "execution_count": 1,
      "metadata": {
        "colab": {
          "base_uri": "https://localhost:8080/"
        },
        "id": "TU-Gu6l0h6rz",
        "outputId": "03bed304-f894-43ee-c484-84979c6b086f"
      },
      "outputs": [
        {
          "output_type": "stream",
          "name": "stderr",
          "text": [
            "[nltk_data] Downloading package wordnet to /root/nltk_data...\n",
            "[nltk_data] Downloading package omw-1.4 to /root/nltk_data...\n"
          ]
        },
        {
          "output_type": "stream",
          "name": "stdout",
          "text": [
            "File 'sample_text.txt' not found. Please provide a valid file.\n"
          ]
        }
      ],
      "source": [
        "#Write a Python script that:\n",
        "#1. Use Genism to preprocess data from a sample text file, follow basic procedures like tokenization, stemming, lemmatization etc.\n",
        "from gensim.parsing.preprocessing import remove_stopwords, strip_punctuation, preprocess_string\n",
        "from gensim.utils import simple_preprocess\n",
        "from nltk.stem import PorterStemmer\n",
        "from nltk.stem.wordnet import WordNetLemmatizer\n",
        "import nltk\n",
        "\n",
        "nltk.download('wordnet')\n",
        "nltk.download('omw-1.4')\n",
        "\n",
        "def preprocess_text(text):\n",
        "    \"\"\"\n",
        "    Preprocess the given text using Gensim and NLTK.\n",
        "    Includes tokenization, stemming, lemmatization, and stopword removal.\n",
        "    \"\"\"\n",
        "\n",
        "    tokens = simple_preprocess(text, deacc=True)\n",
        "\n",
        "    text_no_stopwords = remove_stopwords(' '.join(tokens))\n",
        "    tokens_no_stopwords = text_no_stopwords.split()\n",
        "\n",
        "    stemmer = PorterStemmer()\n",
        "    stemmed_tokens = [stemmer.stem(token) for token in tokens_no_stopwords]\n",
        "\n",
        "\n",
        "    lemmatizer = WordNetLemmatizer()\n",
        "    lemmatized_tokens = [lemmatizer.lemmatize(token) for token in stemmed_tokens]\n",
        "\n",
        "    return lemmatized_tokens\n",
        "\n",
        "\n",
        "def read_sample_file(filename):\n",
        "    with open(filename, 'r', encoding='utf-8') as file:\n",
        "        text = file.read()\n",
        "    return text\n",
        "\n",
        "if __name__ == \"__main__\":\n",
        "    sample_file = \"sample_text.txt\"\n",
        "    try:\n",
        "        sample_text = read_sample_file(sample_file)\n",
        "        processed_tokens = preprocess_text(sample_text)\n",
        "        print(\"Processed Tokens:\", processed_tokens)\n",
        "    except FileNotFoundError:\n",
        "        print(f\"File '{sample_file}' not found. Please provide a valid file.\")\n"
      ]
    }
  ]
}