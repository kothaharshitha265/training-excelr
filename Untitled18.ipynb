{
  "nbformat": 4,
  "nbformat_minor": 0,
  "metadata": {
    "colab": {
      "provenance": [],
      "authorship_tag": "ABX9TyMllxiyUKivIC0ZYEmOD8go",
      "include_colab_link": true
    },
    "kernelspec": {
      "name": "python3",
      "display_name": "Python 3"
    },
    "language_info": {
      "name": "python"
    }
  },
  "cells": [
    {
      "cell_type": "markdown",
      "metadata": {
        "id": "view-in-github",
        "colab_type": "text"
      },
      "source": [
        "<a href=\"https://colab.research.google.com/github/kothaharshitha265/training-excelr/blob/main/Untitled18.ipynb\" target=\"_parent\"><img src=\"https://colab.research.google.com/assets/colab-badge.svg\" alt=\"Open In Colab\"/></a>"
      ]
    },
    {
      "cell_type": "code",
      "execution_count": 2,
      "metadata": {
        "id": "EBNHGmg144I2",
        "colab": {
          "base_uri": "https://localhost:8080/"
        },
        "outputId": "776a372d-ce60-4617-b4d8-20073e7f1ae8"
      },
      "outputs": [
        {
          "output_type": "stream",
          "name": "stdout",
          "text": [
            "Webpage Title: Example Domain\n"
          ]
        }
      ],
      "source": [
        "#Write a Python script to fetch and print the title of a webpage using the 'requests' and 'BeautifulSoup' libraries. Test it with the URL: 'https://example.com'.\n",
        "import requests\n",
        "from bs4 import BeautifulSoup\n",
        "\n",
        "def fetch_webpage_title(url):\n",
        "    try:\n",
        "        # Send an HTTP GET request to the specified URL\n",
        "        response = requests.get(url)\n",
        "        # Check if the request was successful\n",
        "        response.raise_for_status()\n",
        "        # Parse the webpage content using BeautifulSoup\n",
        "        soup = BeautifulSoup(response.text, 'html.parser')\n",
        "        # Extract and return the title of the webpage\n",
        "        title = soup.title.string if soup.title else \"No title found\"\n",
        "        return title\n",
        "    except requests.exceptions.RequestException as e:\n",
        "        return f\"An error occurred: {e}\"\n",
        "\n",
        "# Test the function with the given URL\n",
        "url = 'https://example.com'\n",
        "webpage_title = fetch_webpage_title(url)\n",
        "print(\"Webpage Title:\", webpage_title)\n",
        "\n"
      ]
    }
  ]
}